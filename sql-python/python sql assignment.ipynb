{
 "cells": [
  {
   "cell_type": "code",
   "execution_count": 8,
   "metadata": {},
   "outputs": [],
   "source": [
    "import pyodbc \n",
    "import pandas as pd\n",
    "from datetime import datetime"
   ]
  },
  {
   "cell_type": "code",
   "execution_count": 9,
   "metadata": {},
   "outputs": [],
   "source": [
    "conn_data = pd.read_csv('conn.csv')"
   ]
  },
  {
   "cell_type": "code",
   "execution_count": 10,
   "metadata": {},
   "outputs": [],
   "source": [
    "server   = conn_data['server'][0]\n",
    "database = conn_data['database'][0]\n",
    "username = conn_data['username'][0]\n",
    "password = conn_data['password'][0]\n",
    "cnxn     = pyodbc.connect('DRIVER={SQL Server Native Client 11.0};SERVER='+server+';DATABASE='+database+';UID='+username+';PWD='+ password)"
   ]
  },
  {
   "cell_type": "code",
   "execution_count": 11,
   "metadata": {},
   "outputs": [],
   "source": [
    "# Autocommiting cursor\n",
    "cursor = cnxn.cursor()\n",
    "# cnxn.autocommit = True"
   ]
  },
  {
   "cell_type": "code",
   "execution_count": 43,
   "metadata": {},
   "outputs": [
    {
     "data": {
      "text/plain": [
       "datetime.datetime(2014, 8, 14, 0, 0)"
      ]
     },
     "execution_count": 43,
     "metadata": {},
     "output_type": "execute_result"
    }
   ],
   "source": [
    "# Selecting today \n",
    "today = '2014-08-14'\n",
    "ts    = datetime.strptime(today, '%Y-%m-%d')\n",
    "ts"
   ]
  },
  {
   "cell_type": "code",
   "execution_count": null,
   "metadata": {},
   "outputs": [],
   "source": [
    "# query = \"\"\"\n",
    "#         SELECT TOP 10 *\n",
    "#         FROM logins\n",
    "#         WHERE tmstmp >= ?\n",
    "        \n",
    "#         \"\"\""
   ]
  },
  {
   "cell_type": "code",
   "execution_count": 67,
   "metadata": {},
   "outputs": [],
   "source": [
    "# query = \"\"\"         \n",
    "#             SELECT userid, COUNT(distinct cast(tmstmp as DATE)) AS login_7d, ? AS date_7d\n",
    "#             INTO logins_7d\n",
    "#             FROM logins\n",
    "#             WHERE tmstmp > dateadd(day, -7, ?)\n",
    "#             GROUP BY userid;        \n",
    "#         \"\"\"\n",
    "# cursor.execute(query, (ts, ts))\n",
    "# cursor.commit()"
   ]
  },
  {
   "cell_type": "code",
   "execution_count": 1,
   "metadata": {},
   "outputs": [],
   "source": [
    "# query = 'SELECT TOP 5 * FROM logins_7d'\n",
    "# cursor.execute(query)\n",
    "# for record in cursor:\n",
    "#     print(\"{}, {}, {}\".format(record[1], record[0], record[2]))"
   ]
  },
  {
   "cell_type": "markdown",
   "metadata": {},
   "source": [
    "## Pipeline"
   ]
  },
  {
   "cell_type": "code",
   "execution_count": null,
   "metadata": {},
   "outputs": [],
   "source": [
    "# query1 = \"\"\"\n",
    "#             SELECT X.userid\n",
    "#                   ,X.tmstmp as reg_date\n",
    "#             FROM registrations X\n",
    "\n",
    "#         \"\"\"\n",
    "\n",
    "# query2 = \"\"\"\n",
    "#             WITH logins_rank AS(\n",
    "#                 SELECT \n",
    "#                      B.userid\n",
    "#                     ,B.tmstmp as last_login\n",
    "#                     ,row_number() over(partition by B.userid order by tmstmp desc) as row_num\n",
    "#                 FROM logins B           \n",
    "#             ) SELECT Y.userid, Y.last_login \n",
    "#               FROM logins_rank Y\n",
    "#               WHERE Y.row_num = 1 \n",
    "#         \"\"\"\n",
    "\n",
    "# query3 = \"\"\"         \n",
    "#             SELECT  A.userid,\n",
    "#                     A.tmstmp,\n",
    "#                     (SELECT COUNT(DISTINCT cast(B.tmstmp as Date))\n",
    "#                     FROM [socialmedia].[dbo].[logins] B\n",
    "#                     WHERE A.userid = B.userid\n",
    "#                     AND B.tmstmp BETWEEN DATEADD(day,-7, A.tmstmp) AND A.tmstmp) as logins_7d,\n",
    "#                     (SELECT COUNT(DISTINCT cast(C.tmstmp as Date))\n",
    "#                     FROM [socialmedia].[dbo].[logins] C\n",
    "#                     WHERE A.userid = C.userid\n",
    "#                     AND C.tmstmp BETWEEN DATEADD(day,-7, A.tmstmp) \n",
    "#                     AND A.tmstmp AND C.[type] = 'mobile') as logins_7d_mobile,\n",
    "#                     (SELECT COUNT(DISTINCT cast(D.tmstmp as Date))\n",
    "#                     FROM [socialmedia].[dbo].[logins] D\n",
    "#                     WHERE A.userid = D.userid\n",
    "#                     AND D.tmstmp BETWEEN DATEADD(day,-7, A.tmstmp) \n",
    "#                     AND A.tmstmp AND D.[type] = 'web') as logins_7d_web  \n",
    "#             FROM [socialmedia].[dbo].[logins] A"
   ]
  },
  {
   "cell_type": "code",
   "execution_count": 12,
   "metadata": {},
   "outputs": [
    {
     "data": {
      "text/plain": [
       "datetime.date(2014, 8, 14)"
      ]
     },
     "execution_count": 12,
     "metadata": {},
     "output_type": "execute_result"
    }
   ],
   "source": [
    "today = '2014-08-14'\n",
    "ts    = datetime.strptime(today, '%Y-%m-%d').date()\n",
    "ts"
   ]
  },
  {
   "cell_type": "code",
   "execution_count": 14,
   "metadata": {},
   "outputs": [],
   "source": [
    "# Selecting today \n",
    "today = '2014-08-14'\n",
    "ts    = datetime.strptime(today, '%Y-%m-%d')\n",
    "\n",
    "# Get last login from today\n",
    "query2 = \"\"\"    SELECT \n",
    "                     userid\n",
    "                    ,tmstmp AS last_login\n",
    "                    ,ROW_NUMBER() OVER(PARTITION BY userid\n",
    "                                       ORDER BY tmstmp desc) AS row_num\n",
    "                FROM logins     \n",
    "                WHERE DATEDIFF(DAY, tmstmp, ?) < 7   \n",
    "        \"\"\"\n",
    "# Get count of logins in past 7 days from today\n",
    "query3 = \"\"\" SELECT userid, COUNT(distinct cast(tmstmp as DATE)) AS login_7d\n",
    "             FROM logins\n",
    "             WHERE tmstmp > dateadd(day, -7, ?)\n",
    "             GROUP BY userid \"\"\"\n",
    "\n",
    "# Get count of logins in past 7 days from today\n",
    "query4 = \"\"\" SELECT userid, COUNT(distinct cast(tmstmp as DATE)) AS login_7d_mobile\n",
    "             FROM logins\n",
    "             WHERE tmstmp > dateadd(day, -7, ?)\n",
    "             AND [type] = 'mobile'\n",
    "             GROUP BY userid \"\"\"\n",
    "\n",
    "query5 = \"\"\" SELECT userid, COUNT(distinct cast(tmstmp as DATE)) AS login_7d_web\n",
    "             FROM logins\n",
    "             WHERE tmstmp > dateadd(day, -7, ?)\n",
    "             AND [type] = 'web'\n",
    "             GROUP BY userid \"\"\"\n",
    "\n",
    "query_temp = 'WITH logins_rank AS (' + query2 + '), '\n",
    "query_temp = query_temp + 'logins_day AS (' + query3 + '), '\n",
    "query_temp = query_temp + 'logins_mobile AS (' + query4 + '), '\n",
    "query_temp = query_temp + 'logins_web AS (' + query5 + ') '\n",
    "\n",
    "query_join = \"\"\"\n",
    "                SELECT  A.userid,\n",
    "                        F.tmstmp as reg_date,\n",
    "                        D. last_login,\n",
    "                        A.login_7d,\n",
    "                        B.login_7d_mobile,\n",
    "                        C.login_7d_web,\n",
    "                        CASE\n",
    "                            WHEN A.userid in (SELECT DISTINCT userid FROM optout) THEN 1\n",
    "                            ELSE 0\n",
    "                        END AS optout\n",
    "                INTO snapshot_social\n",
    "                FROM logins_day A\n",
    "                LEFT JOIN logins_mobile B\n",
    "                ON A.userid = B.userid\n",
    "                LEFT JOIN logins_web C\n",
    "                ON A.userid = C.userid\n",
    "                LEFT JOIN logins_rank D\n",
    "                ON A.userid = D.userid\n",
    "                LEFT JOIN registrations F\n",
    "                ON A.userid = F.userid                \n",
    "                WHERE D.row_num = 1            \n",
    "            \"\"\"\n",
    "\n",
    "query_commit = query_temp + query_join"
   ]
  },
  {
   "cell_type": "code",
   "execution_count": 16,
   "metadata": {},
   "outputs": [],
   "source": [
    "# Commit changes\n",
    "cursor.execute(query_commit, (ts,ts,ts,ts))\n",
    "cursor.commit()"
   ]
  },
  {
   "cell_type": "code",
   "execution_count": 17,
   "metadata": {},
   "outputs": [
    {
     "name": "stdout",
     "output_type": "stream",
     "text": [
      "0, 2014-06-23 22:25:59, 2014-08-13 13:05:23, 3, 3, None, 0\n",
      "1, 2013-12-21 20:11:02, 2014-08-12 20:49:22, 5, 2, 4, 0\n",
      "2, 2014-04-18 10:05:11, 2014-08-14 08:20:00, 4, 4, 1, 0\n",
      "3, 2013-12-17 16:01:59, 2014-08-13 19:59:38, 3, 2, 1, 0\n",
      "4, 2014-08-11 19:22:32, 2014-08-09 05:10:07, 1, 1, None, 0\n",
      "5, 2013-08-31 05:22:58, 2014-08-10 02:05:54, 1, 1, None, 0\n",
      "6, 2013-08-18 10:09:28, 2014-08-12 18:44:34, 1, None, 1, 0\n",
      "7, 2014-03-21 22:55:47, 2014-08-12 05:04:12, 2, 2, None, 0\n",
      "8, 2014-05-03 01:48:29, 2014-08-11 23:50:14, 2, None, 2, 0\n",
      "9, 2014-06-06 12:13:59, 2014-08-11 14:03:31, 1, 1, 1, 0\n"
     ]
    }
   ],
   "source": [
    "query_result = 'SELECT TOP 10 * FROM snapshot_social'\n",
    "\n",
    "cursor.execute(query_result)\n",
    "for record in cursor:\n",
    "    print(\"{}, {}, {}, {}, {}, {}, {}\".format(record[0], record[1], record[2], record[3],record[4],record[5], record[6]))"
   ]
  },
  {
   "cell_type": "code",
   "execution_count": 18,
   "metadata": {},
   "outputs": [],
   "source": [
    "cursor.close()\n",
    "cnxn.close()"
   ]
  }
 ],
 "metadata": {
  "kernelspec": {
   "display_name": "Python 3",
   "language": "python",
   "name": "python3"
  },
  "language_info": {
   "codemirror_mode": {
    "name": "ipython",
    "version": 3
   },
   "file_extension": ".py",
   "mimetype": "text/x-python",
   "name": "python",
   "nbconvert_exporter": "python",
   "pygments_lexer": "ipython3",
   "version": "3.7.3"
  }
 },
 "nbformat": 4,
 "nbformat_minor": 2
}
