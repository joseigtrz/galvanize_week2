{
 "cells": [
  {
   "cell_type": "code",
   "execution_count": 4,
   "metadata": {},
   "outputs": [],
   "source": [
    "import pymongo"
   ]
  },
  {
   "cell_type": "code",
   "execution_count": 5,
   "metadata": {},
   "outputs": [],
   "source": [
    "from pymongo import MongoClient\n",
    "\n",
    "myclient = pymongo.MongoClient(\"mongodb://localhost:27017/\")\n",
    "\n",
    "new_db = myclient[\"mydatabase\"]"
   ]
  },
  {
   "cell_type": "code",
   "execution_count": 6,
   "metadata": {},
   "outputs": [
    {
     "name": "stdout",
     "output_type": "stream",
     "text": [
      "['admin', 'config', 'local', 'mydatabase']\n"
     ]
    }
   ],
   "source": [
    "print(myclient.list_database_names())"
   ]
  },
  {
   "cell_type": "code",
   "execution_count": 30,
   "metadata": {},
   "outputs": [
    {
     "name": "stdout",
     "output_type": "stream",
     "text": [
      "['cars']\n"
     ]
    }
   ],
   "source": [
    "col = new_db[\"cars\"]\n",
    "\n",
    "new_dict = {'name': 'Audi', 'price': 52642}\n",
    "\n",
    "x = col.insert_one(new_dict)\n",
    "\n",
    "#Check if the collection exists\n",
    "print(new_db.list_collection_names())"
   ]
  },
  {
   "cell_type": "code",
   "execution_count": 31,
   "metadata": {},
   "outputs": [
    {
     "name": "stdout",
     "output_type": "stream",
     "text": [
      "[ObjectId('5d93b3b2cc9ec824ed1bfe9d'), ObjectId('5d93b3b2cc9ec824ed1bfe9e'), ObjectId('5d93b3b2cc9ec824ed1bfe9f'), ObjectId('5d93b3b2cc9ec824ed1bfea0'), ObjectId('5d93b3b2cc9ec824ed1bfea1'), ObjectId('5d93b3b2cc9ec824ed1bfea2'), ObjectId('5d93b3b2cc9ec824ed1bfea3'), ObjectId('5d93b3b2cc9ec824ed1bfea4')]\n"
     ]
    }
   ],
   "source": [
    "my_list = [ {'name': 'Audi', 'price': 52642},\n",
    "    {'name': 'Mercedes', 'price': 57127},\n",
    "    {'name': 'Skoda', 'price': 9000},\n",
    "    {'name': 'Volvo', 'price': 29000},\n",
    "    {'name': 'Bentley', 'price': 350000},\n",
    "    {'name': 'Citroen', 'price': 21000},\n",
    "    {'name': 'Hummer', 'price': 41400},\n",
    "    {'name': 'Volkswagen', 'price': 21600} ]\n",
    "\n",
    "x = col.insert_many(my_list)\n",
    "\n",
    "#print list of the _id values of the inserted documents:\n",
    "print(x.inserted_ids)"
   ]
  },
  {
   "cell_type": "code",
   "execution_count": 9,
   "metadata": {},
   "outputs": [
    {
     "name": "stdout",
     "output_type": "stream",
     "text": [
      "{'_id': ObjectId('5d93af7ecc9ec824ed1bfe88'), 'name': 'Audi', 'price': 52642}\n"
     ]
    }
   ],
   "source": [
    "new_db = myclient[\"mydatabase\"]\n",
    "col    = new_db[\"cars\"]\n",
    "\n",
    "x = col.find_one()\n",
    "\n",
    "print(x)"
   ]
  },
  {
   "cell_type": "code",
   "execution_count": 10,
   "metadata": {},
   "outputs": [
    {
     "name": "stdout",
     "output_type": "stream",
     "text": [
      "{'_id': ObjectId('5d93af7ecc9ec824ed1bfe88'), 'name': 'Audi', 'price': 52642}\n",
      "{'_id': ObjectId('5d93afafcc9ec824ed1bfe89'), 'name': 'Audi', 'price': 52642}\n",
      "{'_id': ObjectId('5d93afc9cc9ec824ed1bfe8a'), 'name': 'Audi', 'price': 52642}\n",
      "{'_id': ObjectId('5d93aff1cc9ec824ed1bfe8b'), 'name': 'Audi', 'price': 52642}\n",
      "{'_id': ObjectId('5d93aff1cc9ec824ed1bfe8c'), 'name': 'Mercedes', 'price': 57127}\n",
      "{'_id': ObjectId('5d93aff1cc9ec824ed1bfe8d'), 'name': 'Skoda', 'price': 9000}\n",
      "{'_id': ObjectId('5d93aff1cc9ec824ed1bfe8e'), 'name': 'Volvo', 'price': 29000}\n",
      "{'_id': ObjectId('5d93aff1cc9ec824ed1bfe8f'), 'name': 'Bentley', 'price': 350000}\n",
      "{'_id': ObjectId('5d93aff1cc9ec824ed1bfe90'), 'name': 'Citroen', 'price': 21000}\n",
      "{'_id': ObjectId('5d93aff1cc9ec824ed1bfe91'), 'name': 'Hummer', 'price': 41400}\n",
      "{'_id': ObjectId('5d93aff1cc9ec824ed1bfe92'), 'name': 'Volkswagen', 'price': 21600}\n"
     ]
    }
   ],
   "source": [
    "col = new_db[\"cars\"]\n",
    "\n",
    "for x in col.find():\n",
    "    print(x)"
   ]
  },
  {
   "cell_type": "code",
   "execution_count": 11,
   "metadata": {},
   "outputs": [
    {
     "name": "stdout",
     "output_type": "stream",
     "text": [
      "{'_id': ObjectId('5d93af7ecc9ec824ed1bfe88'), 'name': 'Audi', 'price': 52642}\n",
      "{'_id': ObjectId('5d93afafcc9ec824ed1bfe89'), 'name': 'Audi', 'price': 52642}\n",
      "{'_id': ObjectId('5d93afc9cc9ec824ed1bfe8a'), 'name': 'Audi', 'price': 52642}\n",
      "{'_id': ObjectId('5d93aff1cc9ec824ed1bfe8b'), 'name': 'Audi', 'price': 52642}\n"
     ]
    }
   ],
   "source": [
    "# Queries\n",
    "query1 = {\"price\" : 52642}\n",
    "new_doc = col.find(query1)\n",
    "for x in new_doc:\n",
    "    print(x)"
   ]
  },
  {
   "cell_type": "code",
   "execution_count": 15,
   "metadata": {},
   "outputs": [
    {
     "name": "stdout",
     "output_type": "stream",
     "text": [
      "{'_id': ObjectId('5d93af7ecc9ec824ed1bfe88'), 'name': 'Audi', 'price': 52642}\n",
      "{'_id': ObjectId('5d93afafcc9ec824ed1bfe89'), 'name': 'Audi', 'price': 52642}\n",
      "{'_id': ObjectId('5d93afc9cc9ec824ed1bfe8a'), 'name': 'Audi', 'price': 52642}\n",
      "{'_id': ObjectId('5d93aff1cc9ec824ed1bfe8b'), 'name': 'Audi', 'price': 52642}\n",
      "{'_id': ObjectId('5d93aff1cc9ec824ed1bfe8c'), 'name': 'Mercedes', 'price': 57127}\n",
      "{'_id': ObjectId('5d93aff1cc9ec824ed1bfe8d'), 'name': 'Skoda', 'price': 9000}\n",
      "{'_id': ObjectId('5d93aff1cc9ec824ed1bfe8e'), 'name': 'Volvo', 'price': 29000}\n",
      "{'_id': ObjectId('5d93aff1cc9ec824ed1bfe8f'), 'name': 'Bentley', 'price': 350000}\n",
      "{'_id': ObjectId('5d93aff1cc9ec824ed1bfe90'), 'name': 'Citroen', 'price': 21000}\n",
      "{'_id': ObjectId('5d93aff1cc9ec824ed1bfe91'), 'name': 'Hummer', 'price': 41400}\n",
      "{'_id': ObjectId('5d93aff1cc9ec824ed1bfe92'), 'name': 'Volkswagen', 'price': 21600}\n"
     ]
    }
   ],
   "source": [
    "# Regular expression\n",
    "query2 = {\"name\": { \"$gt\": \"A\" }}\n",
    "\n",
    "doc2 = col.find(query2)\n",
    "\n",
    "for x in doc2:\n",
    "    print(x)"
   ]
  },
  {
   "cell_type": "code",
   "execution_count": 18,
   "metadata": {},
   "outputs": [],
   "source": [
    "col = new_db[\"cars\"]\n",
    "\n",
    "query3 = {\"name\": {\"$regex\": \"^E\"}}\n",
    "\n",
    "doc3 = col.find(query3)\n",
    "\n",
    "for x in doc3:\n",
    "    print(x)"
   ]
  },
  {
   "cell_type": "code",
   "execution_count": 19,
   "metadata": {},
   "outputs": [
    {
     "name": "stdout",
     "output_type": "stream",
     "text": [
      "{'_id': ObjectId('5d93af7ecc9ec824ed1bfe88'), 'name': 'Audi', 'price': 52642}\n",
      "{'_id': ObjectId('5d93afafcc9ec824ed1bfe89'), 'name': 'Audi', 'price': 52642}\n",
      "{'_id': ObjectId('5d93afc9cc9ec824ed1bfe8a'), 'name': 'Audi', 'price': 52642}\n",
      "{'_id': ObjectId('5d93aff1cc9ec824ed1bfe8b'), 'name': 'Audi', 'price': 52642}\n",
      "{'_id': ObjectId('5d93aff1cc9ec824ed1bfe8f'), 'name': 'Bentley', 'price': 350000}\n",
      "{'_id': ObjectId('5d93aff1cc9ec824ed1bfe90'), 'name': 'Citroen', 'price': 21000}\n",
      "{'_id': ObjectId('5d93aff1cc9ec824ed1bfe91'), 'name': 'Hummer', 'price': 41400}\n",
      "{'_id': ObjectId('5d93aff1cc9ec824ed1bfe8c'), 'name': 'Mercedes', 'price': 57127}\n",
      "{'_id': ObjectId('5d93aff1cc9ec824ed1bfe8d'), 'name': 'Skoda', 'price': 9000}\n",
      "{'_id': ObjectId('5d93aff1cc9ec824ed1bfe92'), 'name': 'Volkswagen', 'price': 21600}\n",
      "{'_id': ObjectId('5d93aff1cc9ec824ed1bfe8e'), 'name': 'Volvo', 'price': 29000}\n"
     ]
    }
   ],
   "source": [
    "new_doc = col.find().sort(\"name\")\n",
    "\n",
    "for x in new_doc:\n",
    "    print(x)"
   ]
  },
  {
   "cell_type": "code",
   "execution_count": 20,
   "metadata": {},
   "outputs": [
    {
     "name": "stdout",
     "output_type": "stream",
     "text": [
      "{'_id': ObjectId('5d93aff1cc9ec824ed1bfe8e'), 'name': 'Volvo', 'price': 29000}\n",
      "{'_id': ObjectId('5d93aff1cc9ec824ed1bfe92'), 'name': 'Volkswagen', 'price': 21600}\n",
      "{'_id': ObjectId('5d93aff1cc9ec824ed1bfe8d'), 'name': 'Skoda', 'price': 9000}\n",
      "{'_id': ObjectId('5d93aff1cc9ec824ed1bfe8c'), 'name': 'Mercedes', 'price': 57127}\n",
      "{'_id': ObjectId('5d93aff1cc9ec824ed1bfe91'), 'name': 'Hummer', 'price': 41400}\n",
      "{'_id': ObjectId('5d93aff1cc9ec824ed1bfe90'), 'name': 'Citroen', 'price': 21000}\n",
      "{'_id': ObjectId('5d93aff1cc9ec824ed1bfe8f'), 'name': 'Bentley', 'price': 350000}\n",
      "{'_id': ObjectId('5d93af7ecc9ec824ed1bfe88'), 'name': 'Audi', 'price': 52642}\n",
      "{'_id': ObjectId('5d93afafcc9ec824ed1bfe89'), 'name': 'Audi', 'price': 52642}\n",
      "{'_id': ObjectId('5d93afc9cc9ec824ed1bfe8a'), 'name': 'Audi', 'price': 52642}\n",
      "{'_id': ObjectId('5d93aff1cc9ec824ed1bfe8b'), 'name': 'Audi', 'price': 52642}\n"
     ]
    }
   ],
   "source": [
    "new_doc = col.find().sort(\"name\", -1)\n",
    "\n",
    "for x in new_doc:\n",
    "    print(x)"
   ]
  },
  {
   "cell_type": "code",
   "execution_count": 21,
   "metadata": {},
   "outputs": [
    {
     "data": {
      "text/plain": [
       "<pymongo.results.DeleteResult at 0x16d4fb35d08>"
      ]
     },
     "execution_count": 21,
     "metadata": {},
     "output_type": "execute_result"
    }
   ],
   "source": [
    "query = { \"name\": \"Volvo\" }\n",
    "\n",
    "col.delete_one(query)"
   ]
  },
  {
   "cell_type": "code",
   "execution_count": 22,
   "metadata": {},
   "outputs": [
    {
     "name": "stdout",
     "output_type": "stream",
     "text": [
      "1  documents deleted.\n"
     ]
    }
   ],
   "source": [
    "query = { \"name\": {\"$regex\": \"^V\"} }\n",
    "\n",
    "x = col.delete_many(query)\n",
    "\n",
    "print(x.deleted_count, \" documents deleted.\")"
   ]
  },
  {
   "cell_type": "code",
   "execution_count": 27,
   "metadata": {},
   "outputs": [],
   "source": [
    "new_db = myclient[\"mydatabase\"]\n",
    "col = new_db[\"cars\"]\n",
    "\n",
    "col.drop()"
   ]
  },
  {
   "cell_type": "code",
   "execution_count": 7,
   "metadata": {},
   "outputs": [
    {
     "name": "stdout",
     "output_type": "stream",
     "text": [
      "{'_id': ObjectId('5d93b3afcc9ec824ed1bfe9c'), 'name': 'Audi', 'price': 52642}\n",
      "{'_id': ObjectId('5d93b3b2cc9ec824ed1bfe9d'), 'name': 'Audi', 'price': 52642}\n",
      "{'_id': ObjectId('5d93b3b2cc9ec824ed1bfe9e'), 'name': 'Mercedes', 'price': 57127}\n",
      "{'_id': ObjectId('5d93b3b2cc9ec824ed1bfe9f'), 'name': 'Skoda', 'price': 9000, 'address': 9800}\n",
      "{'_id': ObjectId('5d93b3b2cc9ec824ed1bfea0'), 'name': 'Volvo', 'price': 29000}\n",
      "{'_id': ObjectId('5d93b3b2cc9ec824ed1bfea1'), 'name': 'Bentley', 'price': 350000}\n",
      "{'_id': ObjectId('5d93b3b2cc9ec824ed1bfea2'), 'name': 'Citroen', 'price': 21000}\n",
      "{'_id': ObjectId('5d93b3b2cc9ec824ed1bfea3'), 'name': 'Hummer', 'price': 41400}\n",
      "{'_id': ObjectId('5d93b3b2cc9ec824ed1bfea4'), 'name': 'Volkswagen', 'price': 21600}\n"
     ]
    }
   ],
   "source": [
    "col = new_db[\"cars\"]\n",
    "\n",
    "query = { \"price\": 9000 }\n",
    "newvalues = { \"$set\": { \"address\": 9800 } }\n",
    "\n",
    "col.update_one(query, newvalues)\n",
    "\n",
    "#print \"customers\" after the update:\n",
    "for x in col.find():\n",
    "    print(x)"
   ]
  },
  {
   "cell_type": "code",
   "execution_count": 8,
   "metadata": {},
   "outputs": [
    {
     "name": "stdout",
     "output_type": "stream",
     "text": [
      "{'_id': ObjectId('5d93b3afcc9ec824ed1bfe9c'), 'name': 'Audi', 'price': 52642}\n",
      "{'_id': ObjectId('5d93b3b2cc9ec824ed1bfe9d'), 'name': 'Audi', 'price': 52642}\n",
      "{'_id': ObjectId('5d93b3b2cc9ec824ed1bfe9e'), 'name': 'Mercedes', 'price': 57127}\n",
      "{'_id': ObjectId('5d93b3b2cc9ec824ed1bfe9f'), 'name': 'Skoda', 'price': 9000, 'address': 9800}\n",
      "{'_id': ObjectId('5d93b3b2cc9ec824ed1bfea0'), 'name': 'Volvo', 'price': 29000}\n"
     ]
    }
   ],
   "source": [
    "col = new_db[\"cars\"]\n",
    "\n",
    "result = col.find().limit(5)\n",
    "\n",
    "#print the result:\n",
    "for x in result:\n",
    "    print(x)"
   ]
  },
  {
   "cell_type": "code",
   "execution_count": 9,
   "metadata": {},
   "outputs": [
    {
     "name": "stdout",
     "output_type": "stream",
     "text": [
      "['cars']\n",
      "{'db': 'mydatabase', 'collections': 1, 'views': 0, 'objects': 9, 'avgObjSize': 51.666666666666664, 'dataSize': 465.0, 'storageSize': 20480.0, 'numExtents': 0, 'indexes': 1, 'indexSize': 20480.0, 'scaleFactor': 1.0, 'fsUsedSize': 129935699968.0, 'fsTotalSize': 254579974144.0, 'ok': 1.0}\n"
     ]
    },
    {
     "name": "stderr",
     "output_type": "stream",
     "text": [
      "C:\\Apps\\Anaconda\\lib\\site-packages\\ipykernel_launcher.py:1: DeprecationWarning: collection_names is deprecated. Use list_collection_names instead.\n",
      "  \"\"\"Entry point for launching an IPython kernel.\n"
     ]
    }
   ],
   "source": [
    "print(new_db.collection_names())\n",
    "status = new_db.command('dbstats')\n",
    "print(status)"
   ]
  },
  {
   "cell_type": "code",
   "execution_count": null,
   "metadata": {},
   "outputs": [],
   "source": [
    "agr = [{'$match': {'$or':[{'name':'Audi'}, {'name':'Volvo'}]}},\n",
    "       \n",
    "      ]"
   ]
  },
  {
   "cell_type": "code",
   "execution_count": null,
   "metadata": {},
   "outputs": [],
   "source": []
  },
  {
   "cell_type": "code",
   "execution_count": null,
   "metadata": {},
   "outputs": [],
   "source": []
  },
  {
   "cell_type": "code",
   "execution_count": null,
   "metadata": {},
   "outputs": [],
   "source": []
  }
 ],
 "metadata": {
  "kernelspec": {
   "display_name": "Python 3",
   "language": "python",
   "name": "python3"
  }
 },
 "nbformat": 4,
 "nbformat_minor": 2
}
